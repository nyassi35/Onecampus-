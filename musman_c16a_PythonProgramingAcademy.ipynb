{
 "cells": [
  {
   "cell_type": "code",
   "execution_count": null,
   "metadata": {},
   "outputs": [],
   "source": [
    "studentName = ('Bett James', 'Namukolo Abrams', 'Vera Abutu', 'Kwame Doga', 'Lukeman Ahmad', 'Akin Torey', 'Luke Brant', 'James Kenyata', 'Ngugi Tionga', 'Okoro Eze', 'Agatha Chiluba', 'Mangu Joseph', 'Longe Jethro', 'Florence Giwa', 'Vetiva Lucent', 'Melody Braimoh', 'Victor Ihab', 'Mimi Trucker', 'Maguel Peter', 'Wellington Zuba')\n",
    "\n",
    "\n",
    "studentId = ('GR-0483', 'GR-0484', 'GR-0485', 'GR-0486', 'GR-0487', 'GR-0488', 'GR-0489', 'GR-0490', 'GR-0491', 'GR-0492', 'GR-0493', 'GR-0494', 'GR-0495', 'GR-0496', 'GR-0497', 'GR-0498', 'GR-0499', 'GR-0500', 'GR-0501', 'GR-0502',)\n"
   ]
  },
  {
   "cell_type": "code",
   "execution_count": null,
   "metadata": {},
   "outputs": [],
   "source": [
    "#TASK1"
   ]
  },
  {
   "cell_type": "code",
   "execution_count": null,
   "metadata": {},
   "outputs": [],
   "source": [
    "import statistics\n",
    "\n",
    "\n",
    "fullList = []\n",
    "fullDict = dict()\n",
    "\n",
    "def scoreBoard(name, ID, subject, activityList, scoreList):\n",
    "    \n",
    "    subjectDict = dict()\n",
    "    sList = scoreList.split(',')\n",
    "    slist = [float(x) for x in sList]\n",
    "    \n",
    "    activityDict= dict(zip(activityList,sList))\n",
    "    subjectDict[subject] = activityDict\n",
    "\n",
    "    return subjectDict\n",
    "\n",
    "\n",
    "def avgScoreCard(studname, sDictKeys):\n",
    "    studName = studname\n",
    "    qContrib = ''\n",
    "    hContrib = ''\n",
    "    aContrib = ''\n",
    "    eContrib = ''\n",
    "    avgScoreList = []\n",
    "    grade = ''\n",
    "    gpa = ''\n",
    "    status = ''\n",
    "    \n",
    "    for rec in list(sDictKeys):\n",
    "        subject = list(rec.keys())[0]\n",
    "        subjScores = list(rec.values())[0]\n",
    "\n",
    "        for sub in list(subjScores.keys()):\n",
    "            if sub=='Quiz':\n",
    "                qContrib = (float(subjScores[sub])/190)*30\n",
    "                \n",
    "            elif sub == 'HW':\n",
    "                hContrib = (float(subjScores[sub])/190)*15\n",
    "        \n",
    "            elif sub == 'ATTND':\n",
    "                aContrib = (float(subjScores[sub])/96)*12    \n",
    "    \n",
    "        \n",
    "            elif sub == 'Exam':\n",
    "                eContrib = (float(subjScores[sub])/100)*43\n",
    "                \n",
    "            else:\n",
    "                print('assessment type unkown')\n",
    "                \n",
    "        avgScore =   qContrib +hContrib +aContrib + eContrib      \n",
    "        avgScore = round(avgScore, 2)\n",
    "        avgScoreList.append(avgScore)\n",
    "        print(avgScore)\n",
    "        score = statistics.mean(avgScoreList) \n",
    "        score = round(score, 2)\n",
    "        \n",
    "    print(f'this is the mean score of the student: {score}')\n",
    "    gpa = (score/100)*5\n",
    "    gpa = round(gpa, 1)\n",
    "    if score >= 90:\n",
    "        grade = 'A'\n",
    "    elif score >= 75 and score < 90:\n",
    "        grade = 'B'\n",
    "    elif score >= 65 and score < 75:\n",
    "        grade = 'C'\n",
    "    elif score >= 55 and score < 65:\n",
    "        grade = 'D'\n",
    "    elif score >= 50 and score < 55:\n",
    "        grade = 'E'\n",
    "    else:\n",
    "        grade = 'F'\n",
    "    \n",
    "    if grade == 'A':\n",
    "        status = 'PASS'\n",
    "    elif grade == 'B':\n",
    "        status = 'PASS'\n",
    "    elif grade == 'C':\n",
    "        status = 'PASS'\n",
    "    elif grade == 'D':\n",
    "        status = 'PASS'\n",
    "    elif grade == 'E':\n",
    "        status = 'RETAKE'\n",
    "    elif grade == 'F':\n",
    "        status = 'FAIL'\n",
    "        \n",
    "    return avgScoreList, score, grade, gpa, status"
   ]
  },
  {
   "cell_type": "code",
   "execution_count": 217,
   "metadata": {},
   "outputs": [
    {
     "name": "stdout",
     "output_type": "stream",
     "text": [
      "student nameWellington Zuba\n",
      "student IDGR-0502\n",
      "subject\n",
      "enter scores in the following order; Quiz, HW, ATTND, Exam\n",
      "set flag2\n",
      "70.71\n",
      "40.35\n",
      "32.59\n",
      "40.63\n",
      "this is the mean score of the student: 46.07\n",
      "([70.71, 40.35, 32.59, 40.63], 46.07, 'F', 2.3, 'FAIL')\n",
      "[]\n",
      "{'Bett James_GR-0483': [{'chem': {'Quiz': '127', 'HW': ' 135', 'ATTND': ' 17', 'Exam': ' 46'}}, {'bio': {'Quiz': '184', 'HW': ' 186', 'ATTND': ' 58', 'Exam': ' 97'}}, {'phy': {'Quiz': '52', 'HW': ' 142', 'ATTND': ' 29', 'Exam': ' 73'}}, {'math': {'Quiz': '133', 'HW': ' 97', 'ATTND': ' 34', 'Exam': ' 45'}}, {'Subject Scores': [52.62, 92.7, 54.44, 52.26], 'Overall Score': 63.0, 'Grade': 'D', 'GPA': 3.1, 'Status': 'PASS'}], 'Namukolo Abrams_GR-0484': [{'chem': {'Quiz': '141', 'HW': ' 82', 'ATTND': ' 95', 'Exam': ' 52'}}, {'bio': {'Quiz': '177', 'HW': ' 170', 'ATTND': ' 57', 'Exam': ' 41'}}, {'phy': {'Quiz': '21', 'HW': ' 12', 'ATTND': ' 43', 'Exam': ' 31'}}, {'math': {'Quiz': '135', 'HW': ' 180', 'ATTND': ' 48', 'Exam': ' 31'}}, {'Subject Scores': [62.97, 66.12, 22.97, 54.86], 'Overall Score': 51.73, 'Grade': 'E', 'GPA': 2.6, 'Status': 'RETAKE'}], 'Vera Abutu_GR-0485': [{'chem': {'Quiz': '51', 'HW': ' 102', 'ATTND': ' 96', 'Exam': ' 24'}}, {'bio': {'Quiz': '112', 'HW': ' 55', 'ATTND': ' 71', 'Exam': ' 51'}}, {'phy': {'Quiz': '61', 'HW': ' 105', 'ATTND': ' 83', 'Exam': ' 98'}}, {'math': {'Quiz': '74', 'HW': ' 50', 'ATTND': ' 93', 'Exam': ' 94'}}, {'Subject Scores': [38.43, 52.83, 70.44, 67.68], 'Overall Score': 57.34, 'Grade': 'D', 'GPA': 2.9, 'Status': 'PASS'}], 'Kwame Doga_GR-0486': [{'chem': {'Quiz': '26', 'HW': ' 166', 'ATTND': ' 75', 'Exam': ' 73'}}, {'bio': {'Quiz': '133', 'HW': ' 108', 'ATTND': ' 52', 'Exam': ' 68'}}, {'phy': {'Quiz': '62', 'HW': ' 59', 'ATTND': ' 94', 'Exam': ' 65'}}, {'math': {'Quiz': '86', 'HW': ' 181', 'ATTND': ' 66', 'Exam': ' 67'}}, {'Subject Scores': [57.98, 65.27, 54.15, 64.93], 'Overall Score': 60.58, 'Grade': 'D', 'GPA': 3.0, 'Status': 'PASS'}], 'Lukeman Ahmad_GR-0487': [{'chem': {'Quiz': '29', 'HW': ' 180', 'ATTND': ' 38', 'Exam': ' 80'}}, {'bio': {'Quiz': '21', 'HW': ' 123', 'ATTND': ' 47', 'Exam': ' 90'}}, {'phy': {'Quiz': '177', 'HW': ' 11', 'ATTND': ' 38', 'Exam': ' 51'}}, {'math': {'Quiz': '50', 'HW': ' 18', 'ATTND': ' 34', 'Exam': ' 68'}}, {'Subject Scores': [57.94, 57.6, 55.5, 42.81], 'Overall Score': 53.46, 'Grade': 'E', 'GPA': 2.7, 'Status': 'RETAKE'}], 'Akin Torey_GR-0488': [{'chem': {'Quiz': '99', 'HW': ' 125', 'ATTND': ' 26', 'Exam': ' 83'}}, {'bio': {'Quiz': '90', 'HW': ' 47', 'ATTND': ' 88', 'Exam': ' 18'}}, {'phy': {'Quiz': '0', 'HW': ' 119', 'ATTND': ' 37', 'Exam': ' 44'}}, {'math': {'Quiz': '109', 'HW': ' 144', 'ATTND': ' 14', 'Exam': ' 65'}}, {'Subject Scores': [64.44, 36.66, 32.94, 58.28], 'Overall Score': 48.08, 'Grade': 'F', 'GPA': 2.4, 'Status': 'FAIL'}], 'Luke Brant_GR-0489': [{'chem': {'Quiz': '171', 'HW': ' 129', 'ATTND': ' 91', 'Exam': ' 70'}}, {'bio': {'Quiz': '117', 'HW': ' 47', 'ATTND': ' 51', 'Exam': ' 25'}}, {'phy': {'Quiz': '151', 'HW': ' 63', 'ATTND': ' 93', 'Exam': ' 19'}}, {'math': {'Quiz': '121', 'HW': ' 16', 'ATTND': ' 22', 'Exam': ' 41'}}, {'Subject Scores': [78.66, 39.31, 48.61, 40.75], 'Overall Score': 51.83, 'Grade': 'E', 'GPA': 2.6, 'Status': 'RETAKE'}], 'James Kenyata_GR-0490': [{'chem': {'Quiz': '51', 'HW': ' 103', 'ATTND': ' 39', 'Exam': ' 98'}}, {'bio': {'Quiz': '188', 'HW': ' 156', 'ATTND': ' 13', 'Exam': ' 72'}}, {'phy': {'Quiz': '41', 'HW': ' 31', 'ATTND': ' 90', 'Exam': ' 18'}}, {'math': {'Quiz': '120', 'HW': ' 188', 'ATTND': ' 25', 'Exam': ' 52'}}, {'Subject Scores': [63.2, 74.58, 27.91, 59.27], 'Overall Score': 56.24, 'Grade': 'D', 'GPA': 2.8, 'Status': 'PASS'}], 'Ngugi Tionga_GR-0491': [{'chem': {'Quiz': '155', 'HW': ' 111', 'ATTND': ' 14', 'Exam': ' 96'}}, {'bio': {'Quiz': '17', 'HW': ' 136', 'ATTND': ' 42', 'Exam': ' 27'}}, {'phy': {'Quiz': '12', 'HW': ' 77', 'ATTND': ' 70', 'Exam': ' 43'}}, {'math': {'Quiz': '51', 'HW': ' 145', 'ATTND': ' 36', 'Exam': ' 22'}}, {'Subject Scores': [76.27, 30.28, 35.21, 33.46], 'Overall Score': 43.8, 'Grade': 'F', 'GPA': 2.2, 'Status': 'FAIL'}], 'Okoro Eze_GR-0492': [{'chem': {'Quiz': '147', 'HW': ' 153', 'ATTND': ' 31', 'Exam': ' 48'}}, {'bio': {'Quiz': '61', 'HW': ' 66', 'ATTND': ' 58', 'Exam': ' 50'}}, {'phy': {'Quiz': '0', 'HW': ' 97', 'ATTND': ' 54', 'Exam': ' 75'}}, {'math': {'Quiz': '79', 'HW': ' 149', 'ATTND': ' 71', 'Exam': ' 76'}}, {'Subject Scores': [59.8, 43.59, 46.66, 65.79], 'Overall Score': 53.96, 'Grade': 'E', 'GPA': 2.7, 'Status': 'RETAKE'}], 'Agatha Chiluba_GR-0493': [{'chem': {'Quiz': '187', 'HW': ' 106', 'ATTND': ' 67', 'Exam': ' 83'}}, {'bio': {'Quiz': '149', 'HW': ' 100', 'ATTND': ' 64', 'Exam': ' 80'}}, {'phy': {'Quiz': '117', 'HW': ' 88', 'ATTND': ' 86', 'Exam': ' 61'}}, {'math': {'Quiz': '133', 'HW': ' 79', 'ATTND': ' 55', 'Exam': ' 70'}}, {'Subject Scores': [81.96, 73.82, 62.4, 64.21], 'Overall Score': 70.6, 'Grade': 'C', 'GPA': 3.5, 'Status': 'PASS'}], 'Mangu Joseph_GR-0494': [{'chem': {'Quiz': '123', 'HW': ' 171', 'ATTND': ' 82', 'Exam': ' 48'}}, {'bio': {'Quiz': '127', 'HW': ' 88', 'ATTND': ' 87', 'Exam': ' 23'}}, {'phy': {'Quiz': '48', 'HW': ' 139', 'ATTND': ' 63', 'Exam': ' 35'}}, {'math': {'Quiz': '83', 'HW': ' 33', 'ATTND': ' 13', 'Exam': ' 10'}}, {'Subject Scores': [63.81, 47.77, 41.48, 21.64], 'Overall Score': 43.67, 'Grade': 'F', 'GPA': 2.2, 'Status': 'FAIL'}], 'Longe Jethro_GR-0495': [{'chem': {'Quiz': '179', 'HW': ' 160', 'ATTND': ' 48', 'Exam': ' 93'}}, {'bio': {'Quiz': '120', 'HW': ' 136', 'ATTND': ' 92', 'Exam': ' 89'}}, {'phy': {'Quiz': '119', 'HW': ' 119', 'ATTND': ' 65', 'Exam': ' 70'}}, {'math': {'Quiz': '155', 'HW': ' 97', 'ATTND': ' 50', 'Exam': ' 81'}}, {'Subject Scores': [86.88, 79.45, 66.41, 73.21], 'Overall Score': 76.49, 'Grade': 'B', 'GPA': 3.8, 'Status': 'PASS'}], 'Florence Giwa_GR-0496': [{'chem': {'Quiz': '98', 'HW': ' 172', 'ATTND': ' 30', 'Exam': ' 94'}}, {'bio': {'Quiz': '42', 'HW': ' 19', 'ATTND': ' 36', 'Exam': ' 84'}}, {'phy': {'Quiz': '122', 'HW': ' 20', 'ATTND': ' 24', 'Exam': ' 68'}}, {'math': {'Quiz': '84', 'HW': ' 157', 'ATTND': ' 18', 'Exam': ' 46'}}, {'Subject Scores': [73.22, 48.75, 53.08, 47.69], 'Overall Score': 55.69, 'Grade': 'D', 'GPA': 2.8, 'Status': 'PASS'}], 'Vetiva Lucent_GR-0497': [{'chem': {'Quiz': '17', 'HW': ' 60', 'ATTND': ' 48', 'Exam': ' 36'}}, {'bio': {'Quiz': '177', 'HW': ' 70', 'ATTND': ' 48', 'Exam': ' 34'}}, {'phy': {'Quiz': '114', 'HW': ' 109', 'ATTND': ' 84', 'Exam': ' 31'}}, {'math': {'Quiz': '60', 'HW': ' 102', 'ATTND': ' 73', 'Exam': ' 87'}}, {'Subject Scores': [28.9, 54.09, 50.44, 64.06], 'Overall Score': 49.37, 'Grade': 'F', 'GPA': 2.5, 'Status': 'FAIL'}], 'Melody Braimoh_GR-0498': [{'chem': {'Quiz': '67', 'HW': ' 177', 'ATTND': ' 68', 'Exam': ' 39'}}, {'bio': {'Quiz': '162', 'HW': ' 125', 'ATTND': ' 38', 'Exam': ' 36'}}, {'phy': {'Quiz': '145', 'HW': ' 65', 'ATTND': ' 43', 'Exam': ' 14'}}, {'math': {'Quiz': '104', 'HW': ' 58', 'ATTND': ' 36', 'Exam': ' 89'}}, {'Subject Scores': [49.82, 55.68, 39.42, 63.77], 'Overall Score': 52.17, 'Grade': 'E', 'GPA': 2.6, 'Status': 'RETAKE'}], 'Victor Ihab_GR-0499': [{'chem': {'Quiz': '177', 'HW': ' 14', 'ATTND': ' 83', 'Exam': ' 75'}}, {'bio': {'Quiz': '155', 'HW': ' 90', 'ATTND': ' 51', 'Exam': ' 35'}}, {'phy': {'Quiz': '135', 'HW': ' 6', 'ATTND': ' 50', 'Exam': ' 33'}}, {'math': {'Quiz': '43', 'HW': ' 44', 'ATTND': ' 63', 'Exam': ' 48'}}, {'Subject Scores': [71.68, 53.0, 42.23, 38.78], 'Overall Score': 51.42, 'Grade': 'E', 'GPA': 2.6, 'Status': 'RETAKE'}], 'Mimi Trucker_GR-0500': [{'chem': {'Quiz': '148', 'HW': ' 182', 'ATTND': ' 80', 'Exam': ' 46'}}, {'bio': {'Quiz': '141', 'HW': ' 146', 'ATTND': ' 41', 'Exam': ' 80'}}, {'phy': {'Quiz': '34', 'HW': ' 104', 'ATTND': ' 73', 'Exam': ' 23'}}, {'math': {'Quiz': '61', 'HW': ' 136', 'ATTND': ' 44', 'Exam': ' 53'}}, {'Subject Scores': [67.52, 73.31, 32.59, 48.66], 'Overall Score': 55.52, 'Grade': 'D', 'GPA': 2.8, 'Status': 'PASS'}], 'Maguel Peter_GR-0501': [{'chem': {'Quiz': '23', 'HW': ' 95', 'ATTND': ' 63', 'Exam': ' 27'}}, {'bio': {'Quiz': '183', 'HW': ' 43', 'ATTND': ' 28', 'Exam': ' 25'}}, {'phy': {'Quiz': '81', 'HW': ' 143', 'ATTND': ' 80', 'Exam': ' 16'}}, {'math': {'Quiz': '33', 'HW': ' 79', 'ATTND': ' 95', 'Exam': ' 62'}}, {'Subject Scores': [30.62, 46.54, 40.96, 49.98], 'Overall Score': 42.02, 'Grade': 'F', 'GPA': 2.1, 'Status': 'FAIL'}], 'Wellington Zuba_GR-0502': [{'chem': {'Quiz': '182', 'HW': ' 130', 'ATTND': ' 92', 'Exam': ' 47'}}, {'bio': {'Quiz': '102', 'HW': ' 70', 'ATTND': ' 19', 'Exam': ' 38'}}, {'phy': {'Quiz': '71', 'HW': ' 28', 'ATTND': ' 88', 'Exam': ' 19'}}, {'math': {'Quiz': '60', 'HW': ' 77', 'ATTND': ' 94', 'Exam': ' 31'}}, {'Subject Scores': [70.71, 40.35, 32.59, 40.63], 'Overall Score': 46.07, 'Grade': 'F', 'GPA': 2.3, 'Status': 'FAIL'}]}\n"
     ]
    }
   ],
   "source": [
    "# Inputs \n",
    "\n",
    "name = input('student name')\n",
    "ID = str(input('student ID'))\n",
    "subject = input('subject')\n",
    "activityList = ['Quiz', 'HW', 'ATTND', 'Exam'] #input('assessment type List')\n",
    "scoresList = input('enter scores in the following order; Quiz, HW, ATTND, Exam')\n",
    "flag = int(input('set flag'))\n",
    "\n",
    "if flag == 1:\n",
    "    subjectDict = scoreBoard(name, ID, subject, activityList, scoresList)\n",
    "    fullList.append(subjectDict)\n",
    "\n",
    "else:\n",
    "    name_ID = name + '_'+ str(ID)\n",
    "    res = avgScoreCard(name_ID, fullList)\n",
    "    \n",
    "    print(res)\n",
    "    scorecard = dict()\n",
    "    avgScoreList, score, grade, gpa, status = res\n",
    "    scorecard['Subject Scores'] = avgScoreList\n",
    "    scorecard['Overall Score'] = score\n",
    "    scorecard['Grade'] = grade\n",
    "    scorecard['GPA'] = gpa\n",
    "    scorecard['Status'] = status\n",
    "    \n",
    "    fullList.append(scorecard)\n",
    "\n",
    "    fullDict[name_ID]=fullList\n",
    "    fullList = []\n",
    "\n",
    "print(fullList)\n",
    "print(fullDict)"
   ]
  },
  {
   "cell_type": "code",
   "execution_count": 231,
   "metadata": {},
   "outputs": [],
   "source": [
    "#UTILITY 1\n",
    "\n",
    "\n",
    "def PerfRecProvider(regName, regNum):\n",
    "    studentNamesList = fullDict.keys()\n",
    "    for KEY in studentNamesList:\n",
    "        nameCon = KEY.split('_')\n",
    "        if regNum in nameCon or regName in nameCon:\n",
    "            print('we have found the student')\n",
    "            subjects = fullDict[KEY]  \n",
    "            print(subjects)\n"
   ]
  },
  {
   "cell_type": "code",
   "execution_count": 232,
   "metadata": {},
   "outputs": [
    {
     "name": "stdout",
     "output_type": "stream",
     "text": [
      "insert nameFlorence Giwa\n",
      "insert idGR-0496\n",
      "we have found the student\n",
      "[{'chem': {'Quiz': '98', 'HW': ' 172', 'ATTND': ' 30', 'Exam': ' 94'}}, {'bio': {'Quiz': '42', 'HW': ' 19', 'ATTND': ' 36', 'Exam': ' 84'}}, {'phy': {'Quiz': '122', 'HW': ' 20', 'ATTND': ' 24', 'Exam': ' 68'}}, {'math': {'Quiz': '84', 'HW': ' 157', 'ATTND': ' 18', 'Exam': ' 46'}}, {'Subject Scores': [73.22, 48.75, 53.08, 47.69], 'Overall Score': 55.69, 'Grade': 'D', 'GPA': 2.8, 'Status': 'PASS'}]\n"
     ]
    }
   ],
   "source": [
    "#Utility 1 data processor\n",
    "regName = input('insert name')\n",
    "regNum = input('insert id')\n",
    "\n",
    "PerfRecProvider(regName, regNum)\n",
    "\n"
   ]
  },
  {
   "cell_type": "code",
   "execution_count": null,
   "metadata": {},
   "outputs": [],
   "source": []
  },
  {
   "cell_type": "code",
   "execution_count": 233,
   "metadata": {},
   "outputs": [],
   "source": [
    "#UTILITY 2\n",
    "def courseRecord(callID, subject):\n",
    "    studSubPerfRec = fullDict[callID]\n",
    "    for items in list(studSubPerfRec):\n",
    "\n",
    "        if list(items.keys())[0] == course:\n",
    "            print(items.values())\n",
    "\n"
   ]
  },
  {
   "cell_type": "code",
   "execution_count": 234,
   "metadata": {},
   "outputs": [
    {
     "name": "stdout",
     "output_type": "stream",
     "text": [
      "enter name of studentMimi Trucker\n",
      "enter the student IDGR-0500\n",
      "type subjectphy\n",
      "dict_values([{'Quiz': '34', 'HW': ' 104', 'ATTND': ' 73', 'Exam': ' 23'}])\n"
     ]
    }
   ],
   "source": [
    "nameOfStudent = input('enter name of student')\n",
    "studentID = input('enter the student ID')\n",
    "callID = nameOfStudent+ '_'+studentID\n",
    "course = input('type subject')\n",
    "\n",
    "\n",
    "\n",
    "subjectRecord(callID, course)"
   ]
  },
  {
   "cell_type": "code",
   "execution_count": null,
   "metadata": {},
   "outputs": [],
   "source": []
  },
  {
   "cell_type": "code",
   "execution_count": null,
   "metadata": {},
   "outputs": [],
   "source": []
  },
  {
   "cell_type": "code",
   "execution_count": 239,
   "metadata": {},
   "outputs": [],
   "source": [
    "#UTILITY 3\n",
    "def gradeListFetcher(grade):\n",
    "    for x in fullDict:\n",
    "        studStatus = list(fullDict[x][4].values())[-3]\n",
    "        if studStatus == grade:\n",
    "            print(x)\n",
    "        else:\n",
    "            pass"
   ]
  },
  {
   "cell_type": "code",
   "execution_count": 240,
   "metadata": {},
   "outputs": [
    {
     "name": "stdout",
     "output_type": "stream",
     "text": [
      "enter grade of the student in UPPERCASE: D\n",
      "Bett James_GR-0483\n",
      "Vera Abutu_GR-0485\n",
      "Kwame Doga_GR-0486\n",
      "James Kenyata_GR-0490\n",
      "Florence Giwa_GR-0496\n",
      "Mimi Trucker_GR-0500\n"
     ]
    }
   ],
   "source": [
    "#Utility 3 data proccessor\n",
    "\n",
    "grade = input('enter grade of the student in UPPERCASE: ')\n",
    "\n",
    "gradeListFetcher(grade)"
   ]
  },
  {
   "cell_type": "code",
   "execution_count": 241,
   "metadata": {},
   "outputs": [],
   "source": [
    "#UTILITY 4\n",
    "def statusFetcher(status):\n",
    "    for x in fullDict:\n",
    "        studStatus = list(fullDict[x][4].values())[-1]\n",
    "        if studStatus == status:\n",
    "            print(x)"
   ]
  },
  {
   "cell_type": "code",
   "execution_count": 243,
   "metadata": {},
   "outputs": [
    {
     "name": "stdout",
     "output_type": "stream",
     "text": [
      "enter status of the student in UPPERCASEFAIL\n",
      "Akin Torey_GR-0488\n",
      "Ngugi Tionga_GR-0491\n",
      "Mangu Joseph_GR-0494\n",
      "Vetiva Lucent_GR-0497\n",
      "Maguel Peter_GR-0501\n",
      "Wellington Zuba_GR-0502\n"
     ]
    }
   ],
   "source": [
    "#Utility 5 data processor\n",
    "\n",
    "status = input('enter status of the student in UPPERCASE')\n",
    "\n",
    "statusFetcher(status)"
   ]
  },
  {
   "cell_type": "code",
   "execution_count": null,
   "metadata": {},
   "outputs": [],
   "source": [
    "#UTILITY 5\n",
    "def remarkStat(studInfo):\n",
    "\n",
    "    if list(fullDict[studInfo][4].values())[-1] == 'FAIL':\n",
    "        print('this student has failed this assesement')\n",
    "    elif list(fullDict[studInfo][4].values())[-1] == 'PASS':\n",
    "        print('this student has passed this assesement')\n",
    "    elif list(fullDict[studInfo][4].values())[-1] == 'RETAKE':\n",
    "        print('this student needs to retake this assesement')\n"
   ]
  },
  {
   "cell_type": "code",
   "execution_count": null,
   "metadata": {},
   "outputs": [],
   "source": [
    "#utility 5 data processor\n",
    "\n",
    "name = input('enter name of student')\n",
    "idStud = input('enter ID of student')\n",
    "\n",
    "studInfo = name+ '_'+idStud\n",
    "\n",
    "remarkStat(studInfo)\n",
    "\n"
   ]
  },
  {
   "cell_type": "code",
   "execution_count": null,
   "metadata": {},
   "outputs": [],
   "source": []
  }
 ],
 "metadata": {
  "kernelspec": {
   "display_name": "Python 3",
   "language": "python",
   "name": "python3"
  },
  "language_info": {
   "codemirror_mode": {
    "name": "ipython",
    "version": 3
   },
   "file_extension": ".py",
   "mimetype": "text/x-python",
   "name": "python",
   "nbconvert_exporter": "python",
   "pygments_lexer": "ipython3",
   "version": "3.8.5"
  }
 },
 "nbformat": 4,
 "nbformat_minor": 4
}
